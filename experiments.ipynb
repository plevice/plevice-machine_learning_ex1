{
 "cells": [
  {
   "cell_type": "code",
   "execution_count": 1,
   "metadata": {},
   "outputs": [],
   "source": [
    "import numpy as np\n",
    "import pandas as pd\n",
    "pd.set_option('display.max_columns', None)\n",
    "pd.set_option('display.max_rows', 124)\n",
    "\n",
    "from sklearn.model_selection import train_test_split\n",
    "\n",
    "from preprocess import *\n",
    "from classify import *"
   ]
  },
  {
   "cell_type": "markdown",
   "metadata": {},
   "source": [
    "# Speed Dating"
   ]
  },
  {
   "cell_type": "code",
   "execution_count": 2,
   "metadata": {},
   "outputs": [],
   "source": [
    "df = pd.read_csv(\"data/raw/speeddating/speeddating_raw.csv\")\n",
    "\n",
    "X_raw = df.copy().drop([\"match\"], axis=1)\n",
    "y_raw = df[\"match\"].copy()"
   ]
  },
  {
   "cell_type": "code",
   "execution_count": 3,
   "metadata": {},
   "outputs": [],
   "source": [
    "X = X_raw.copy()\n",
    "\n",
    "# remove all columns with > 5% missing values\n",
    "X.dropna(thresh=len(df)*0.95, axis=1, inplace=True)\n",
    "\n",
    "# remove intervall-ized information\n",
    "X.drop([attribute for attribute in df.columns if attribute[:2] == \"d_\" and attribute != \"d_age\"], axis=1, inplace=True)\n",
    "\n",
    "# why bother with an id?\n",
    "X.drop(\"id\", axis=1, inplace=True)\n",
    "\n",
    "# ladies first\n",
    "X[\"gender\"] = X[\"gender\"].map({\"female\": 0, \"male\": 1})\n",
    "\n",
    "for attribute in [\"pref_o_attractive\", \"pref_o_sincere\", \"pref_o_intelligence\", \"pref_o_funny\", \"pref_o_ambitious\", \"pref_o_shared_interests\", \"attractive_important\", \"sincere_important\", \"intellicence_important\", \"funny_important\", \"ambtition_important\", \"shared_interests_important\"]:\n",
    "    X[attribute] /= 100\n",
    "\n",
    "for attribute in [\"importance_same_race\", \"importance_same_religion\", \"attractive_o\", \"sinsere_o\", \"intelligence_o\", \"funny_o\", \"attractive\", \"sincere\", \"intelligence\", \"funny\", \"ambition\", \"attractive_partner\", \"sincere_partner\", \"intelligence_partner\", \"funny_partner\", \"sports\", \"tvsports\", \"exercise\", \"dining\", \"museums\", \"art\", \"hiking\", \"gaming\", \"clubbing\", \"reading\", \"tv\", \"theater\", \"movies\", \"concerts\", \"music\", \"shopping\", \"yoga\", \"expected_happy_with_sd_people\", \"like\", \"guess_prob_liked\", \"met\"]:\n",
    "    X[attribute] /= 10\n",
    "\n",
    "y = y_raw.copy()"
   ]
  },
  {
   "cell_type": "code",
   "execution_count": 4,
   "metadata": {},
   "outputs": [],
   "source": [
    "attributes = {\n",
    "    \"ohe\": [\"race\", \"race_o\", \"field\"],\n",
    "    \"zsc\": [\"wave\", \"age\", \"age_o\", \"d_age\"],\n",
    "    \"rimp\": [],\n",
    "}\n",
    "\n",
    "categories = {\n",
    "    attribute: [category for category in X[attribute].unique() if type(category) is str]\n",
    "    for attribute in attributes[\"ohe\"]\n",
    "}\n",
    "\n",
    "X_train, X_test, y_train, y_test = train_test_split(X, y, random_state=11)\n",
    "\n",
    "X_train_preprocessed, y_train_preprocessed = preprocess(X_train, y_train, attributes, categories)\n",
    "X_test_preprocessed,  y_test_preprocessed  = preprocess(X_test,  y_test,  attributes, categories)"
   ]
  },
  {
   "cell_type": "code",
   "execution_count": 5,
   "metadata": {},
   "outputs": [],
   "source": [
    "parameters = {\n",
    "    \"KNN\": [1, 2, 3],\n",
    "    \"DTC\": [10, 20],\n",
    "    \"RFC\": [],\n",
    "    \"BNB\": [],\n",
    "    \"MNB\": [],\n",
    "}\n",
    "\n",
    "classifiers_dict, scores_dict = classify(\n",
    "    X_train_preprocessed, y_train_preprocessed,\n",
    "    X_test_preprocessed, y_test_preprocessed,\n",
    "    parameters\n",
    ")"
   ]
  },
  {
   "cell_type": "code",
   "execution_count": 6,
   "metadata": {},
   "outputs": [
    {
     "data": {
      "text/plain": [
       "{'KNN': [0.8573008849557522, 0.855641592920354, 0.8678097345132744],\n",
       " 'DTC': [1.0, 1.0],\n",
       " 'RFC': [],\n",
       " 'BNB': [],\n",
       " 'MNB': []}"
      ]
     },
     "execution_count": 6,
     "metadata": {},
     "output_type": "execute_result"
    }
   ],
   "source": [
    "scores_dict"
   ]
  },
  {
   "cell_type": "markdown",
   "metadata": {},
   "source": [
    "# Mushrooms"
   ]
  },
  {
   "cell_type": "code",
   "execution_count": 7,
   "metadata": {},
   "outputs": [],
   "source": [
    "df = pd.read_csv(\"data/raw/mushroom/mushrooms_raw.csv\", delimiter=\";\")\n",
    "\n",
    "X_raw = df.copy().drop([\"class\"], axis=1)\n",
    "y_raw = df[\"class\"].copy()"
   ]
  },
  {
   "cell_type": "code",
   "execution_count": 8,
   "metadata": {},
   "outputs": [],
   "source": [
    "X = X_raw.dropna(thresh=len(df)*0.80, axis=1).copy()\n",
    "\n",
    "for attribute in [\"does-bruise-or-bleed\", \"has-ring\"]:\n",
    "    X[attribute] = X[attribute].map({\"t\": True, \"f\": False})\n",
    "\n",
    "X[\"season\"] = X[\"season\"].map({\"s\": 0, \"u\": 1, \"a\": 2, \"w\": 3})\n",
    "\n",
    "y = y_raw.map({\"e\": True, \"p\": False}).copy()"
   ]
  },
  {
   "cell_type": "code",
   "execution_count": 9,
   "metadata": {},
   "outputs": [],
   "source": [
    "attributes = {\n",
    "    \"ohe\": [attribute for attribute, dtype in dict(X.dtypes).items() if dtype is np.dtype(\"O\")],\n",
    "    \"zsc\": [\"cap-diameter\", \"stem-height\", \"stem-width\"],\n",
    "    \"rimp\": [\"gill-attachment\", \"ring-type\"],\n",
    "}\n",
    "\n",
    "categories = {\n",
    "    attribute: [category for category in X[attribute].unique() if type(category) is str]\n",
    "    for attribute in attributes[\"ohe\"]\n",
    "}\n",
    "\n",
    "X_train, X_test, y_train, y_test = train_test_split(X, y, random_state=11)\n",
    "\n",
    "X_train_preprocessed, y_train_preprocessed = preprocess(X_train, y_train, attributes, categories)\n",
    "X_test_preprocessed,  y_test_preprocessed  = preprocess(X_test,  y_test,  attributes, categories)"
   ]
  },
  {
   "cell_type": "code",
   "execution_count": 10,
   "metadata": {},
   "outputs": [],
   "source": [
    "parameters = {\n",
    "    \"KNN\": [1, 2, 3],\n",
    "    \"DTC\": [10, 20],\n",
    "    \"RFC\": [],\n",
    "    \"BNB\": [],\n",
    "    \"MNB\": [],\n",
    "}\n",
    "\n",
    "classifiers_dict, scores_dict = classify(\n",
    "    X_train_preprocessed, y_train_preprocessed,\n",
    "    X_test_preprocessed, y_test_preprocessed,\n",
    "    parameters\n",
    ")"
   ]
  },
  {
   "cell_type": "code",
   "execution_count": 11,
   "metadata": {},
   "outputs": [
    {
     "data": {
      "text/plain": [
       "{'KNN': [0.9984280848834163, 0.9982970919570343, 0.9986245742729892],\n",
       " 'DTC': [0.9107283206706838, 0.9863767356562746],\n",
       " 'RFC': [],\n",
       " 'BNB': [],\n",
       " 'MNB': []}"
      ]
     },
     "execution_count": 11,
     "metadata": {},
     "output_type": "execute_result"
    }
   ],
   "source": [
    "scores_dict"
   ]
  }
 ],
 "metadata": {
  "kernelspec": {
   "display_name": "Python 3.10.1 64-bit",
   "language": "python",
   "name": "python3"
  },
  "language_info": {
   "codemirror_mode": {
    "name": "ipython",
    "version": 3
   },
   "file_extension": ".py",
   "mimetype": "text/x-python",
   "name": "python",
   "nbconvert_exporter": "python",
   "pygments_lexer": "ipython3",
   "version": "3.10.1"
  },
  "orig_nbformat": 4,
  "vscode": {
   "interpreter": {
    "hash": "1a7892181bc6a8b5934ec9e9bbb9c30c52104e5f153701f05479b274bedc3f5b"
   }
  }
 },
 "nbformat": 4,
 "nbformat_minor": 2
}
