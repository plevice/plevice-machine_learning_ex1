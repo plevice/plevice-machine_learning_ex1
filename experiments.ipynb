{
 "cells": [
  {
   "cell_type": "code",
   "execution_count": 1,
   "metadata": {},
   "outputs": [],
   "source": [
    "import numpy as np\n",
    "import pandas as pd\n",
    "pd.set_option('display.max_columns', None)\n",
    "\n",
    "from sklearn.model_selection import train_test_split\n",
    "\n",
    "from preprocess import *\n",
    "from classify import *"
   ]
  },
  {
   "cell_type": "code",
   "execution_count": 2,
   "metadata": {},
   "outputs": [],
   "source": [
    "df = pd.read_csv(\"data/raw/mushroom/mushrooms_raw.csv\", delimiter=\";\")\n",
    "\n",
    "X_raw = df.copy().drop([\"class\"], axis=1)\n",
    "y_raw = df[\"class\"].copy()"
   ]
  },
  {
   "cell_type": "code",
   "execution_count": 3,
   "metadata": {},
   "outputs": [],
   "source": [
    "X = X_raw.dropna(thresh=len(df)*0.80, axis=1).copy()\n",
    "\n",
    "for attribute in [\"does-bruise-or-bleed\", \"has-ring\"]:\n",
    "    X[attribute] = X[attribute].map({\"t\": True, \"f\": False})\n",
    "\n",
    "X[\"season\"] = X[\"season\"].map({\"s\": 0, \"u\": 1, \"a\": 2, \"w\": 3})\n",
    "\n",
    "y = y_raw.map({\"e\": True, \"p\": False}).copy()"
   ]
  },
  {
   "cell_type": "code",
   "execution_count": 4,
   "metadata": {},
   "outputs": [],
   "source": [
    "attributes = {\n",
    "    \"ohe\": [attribute for attribute, dtype in dict(X.dtypes).items() if dtype is np.dtype(\"O\")],\n",
    "    \"zsc\": [\"cap-diameter\", \"stem-height\", \"stem-width\"],\n",
    "    \"rimp\": [\"gill-attachment\", \"ring-type\"],\n",
    "}\n",
    "\n",
    "categories = [\n",
    "    [category for category in X[attribute].unique() if type(category) is str]\n",
    "    for attribute in attributes[\"ohe\"]\n",
    "]\n",
    "categories_amount = sum([len(category) for category in categories])\n",
    "\n",
    "X_train, X_test, y_train, y_test = train_test_split(X, y, random_state=0)\n",
    "\n",
    "X_train_preprocessed = preprocess(X_train, attributes, categories_amount)\n",
    "X_test_preprocessed  = preprocess(X_test,  attributes, categories_amount)"
   ]
  },
  {
   "cell_type": "code",
   "execution_count": 6,
   "metadata": {},
   "outputs": [],
   "source": [
    "parameters = {\n",
    "    \"KNN\": [1, 2, 3],\n",
    "    \"DTC\": [10, 20],\n",
    "    \"RFC\": [],\n",
    "    \"BNB\": [],\n",
    "    \"MNB\": [],\n",
    "}\n",
    "\n",
    "classifiers_dict, scores_dict = classify(X_train_preprocessed, y_train, X_test_preprocessed, y_test, parameters)"
   ]
  },
  {
   "cell_type": "code",
   "execution_count": 7,
   "metadata": {},
   "outputs": [
    {
     "data": {
      "text/plain": [
       "{'KNN': [0.9981006025674614, 0.9979041131778884, 0.9978386167146974],\n",
       " 'DTC': [0.9226486769714436, 0.9885381189415772],\n",
       " 'RFC': [],\n",
       " 'BNB': [],\n",
       " 'MNB': []}"
      ]
     },
     "execution_count": 7,
     "metadata": {},
     "output_type": "execute_result"
    }
   ],
   "source": [
    "scores_dict"
   ]
  }
 ],
 "metadata": {
  "kernelspec": {
   "display_name": "Python 3.10.1 64-bit",
   "language": "python",
   "name": "python3"
  },
  "language_info": {
   "codemirror_mode": {
    "name": "ipython",
    "version": 3
   },
   "file_extension": ".py",
   "mimetype": "text/x-python",
   "name": "python",
   "nbconvert_exporter": "python",
   "pygments_lexer": "ipython3",
   "version": "3.10.1"
  },
  "orig_nbformat": 4,
  "vscode": {
   "interpreter": {
    "hash": "1a7892181bc6a8b5934ec9e9bbb9c30c52104e5f153701f05479b274bedc3f5b"
   }
  }
 },
 "nbformat": 4,
 "nbformat_minor": 2
}
